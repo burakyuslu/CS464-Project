{
 "cells": [
  {
   "cell_type": "code",
   "execution_count": 2,
   "metadata": {},
   "outputs": [],
   "source": [
    "import matplotlib.pyplot as plt\n",
    "import pandas as pd\n",
    "import numpy as np\n",
    "from sklearn import tree\n",
    "from sklearn.tree import DecisionTreeClassifier\n",
    "import string\n",
    "\n",
    "from sklearn.neighbors import KNeighborsClassifier\n",
    "from sklearn.metrics import accuracy_score"
   ]
  },
  {
   "cell_type": "code",
   "execution_count": 3,
   "metadata": {},
   "outputs": [],
   "source": [
    "# take in the training data\n",
    "x = pd.read_csv(\"sign_mnist_train.csv\")\n",
    "x_train = x.iloc[:, 1:]\n",
    "y_train = x.iloc[:, 0]"
   ]
  },
  {
   "cell_type": "code",
   "execution_count": 4,
   "metadata": {},
   "outputs": [],
   "source": [
    "# take in the test data\n",
    "test = pd.read_csv(\"sign_mnist_test.csv\")\n",
    "x_test = test.iloc[:, 1:]\n",
    "y_test = test.iloc[:, 0]"
   ]
  },
  {
   "cell_type": "code",
   "execution_count": 5,
   "metadata": {},
   "outputs": [
    {
     "name": "stdout",
     "output_type": "stream",
     "text": [
      "K:3 | Leaf Size: 5 | Accuracy: 80.800%\n",
      "K:3 | Leaf Size: 10 | Accuracy: 80.800%\n",
      "K:3 | Leaf Size: 15 | Accuracy: 80.800%\n",
      "K:3 | Leaf Size: 20 | Accuracy: 80.800%\n",
      "K:3 | Leaf Size: 25 | Accuracy: 80.800%\n",
      "K:3 | Leaf Size: 30 | Accuracy: 80.800%\n",
      "K:3 | Leaf Size: 35 | Accuracy: 80.800%\n",
      "K:3 | Leaf Size: 40 | Accuracy: 80.800%\n",
      "K:3 | Leaf Size: 45 | Accuracy: 80.800%\n",
      "K:3 | Leaf Size: 50 | Accuracy: 80.800%\n",
      "K:5 | Leaf Size: 5 | Accuracy: 80.633%\n",
      "K:5 | Leaf Size: 10 | Accuracy: 80.633%\n",
      "K:5 | Leaf Size: 15 | Accuracy: 80.633%\n",
      "K:5 | Leaf Size: 20 | Accuracy: 80.633%\n",
      "K:5 | Leaf Size: 25 | Accuracy: 80.633%\n",
      "K:5 | Leaf Size: 30 | Accuracy: 80.633%\n",
      "K:5 | Leaf Size: 35 | Accuracy: 80.633%\n",
      "K:5 | Leaf Size: 40 | Accuracy: 80.633%\n",
      "K:5 | Leaf Size: 45 | Accuracy: 80.633%\n",
      "K:5 | Leaf Size: 50 | Accuracy: 80.633%\n",
      "K:7 | Leaf Size: 5 | Accuracy: 80.326%\n",
      "K:7 | Leaf Size: 10 | Accuracy: 80.326%\n",
      "K:7 | Leaf Size: 15 | Accuracy: 80.326%\n",
      "K:7 | Leaf Size: 20 | Accuracy: 80.326%\n",
      "K:7 | Leaf Size: 25 | Accuracy: 80.326%\n",
      "K:7 | Leaf Size: 30 | Accuracy: 80.326%\n",
      "K:7 | Leaf Size: 35 | Accuracy: 80.326%\n",
      "K:7 | Leaf Size: 40 | Accuracy: 80.326%\n",
      "K:7 | Leaf Size: 45 | Accuracy: 80.326%\n",
      "K:7 | Leaf Size: 50 | Accuracy: 80.326%\n",
      "K:9 | Leaf Size: 5 | Accuracy: 80.061%\n",
      "K:9 | Leaf Size: 10 | Accuracy: 80.061%\n",
      "K:9 | Leaf Size: 15 | Accuracy: 80.061%\n",
      "K:9 | Leaf Size: 20 | Accuracy: 80.061%\n",
      "K:9 | Leaf Size: 25 | Accuracy: 80.061%\n",
      "K:9 | Leaf Size: 30 | Accuracy: 80.061%\n",
      "K:9 | Leaf Size: 35 | Accuracy: 80.061%\n",
      "K:9 | Leaf Size: 40 | Accuracy: 80.061%\n",
      "K:9 | Leaf Size: 45 | Accuracy: 80.061%\n",
      "K:9 | Leaf Size: 50 | Accuracy: 80.061%\n",
      "K:11 | Leaf Size: 5 | Accuracy: 79.950%\n",
      "K:11 | Leaf Size: 10 | Accuracy: 79.950%\n",
      "K:11 | Leaf Size: 15 | Accuracy: 79.950%\n",
      "K:11 | Leaf Size: 20 | Accuracy: 79.950%\n",
      "K:11 | Leaf Size: 25 | Accuracy: 79.950%\n",
      "K:11 | Leaf Size: 30 | Accuracy: 79.950%\n",
      "K:11 | Leaf Size: 35 | Accuracy: 79.950%\n",
      "K:11 | Leaf Size: 40 | Accuracy: 79.950%\n",
      "K:11 | Leaf Size: 45 | Accuracy: 79.950%\n",
      "K:11 | Leaf Size: 50 | Accuracy: 79.950%\n"
     ]
    }
   ],
   "source": [
    "for k in range(3,12,2):\n",
    "  for leaf_size in range(5,51, 5):\n",
    "    knn = KNeighborsClassifier(n_neighbors=k, leaf_size=leaf_size, weights=\"distance\") \n",
    "    knn.fit(x_train, y_train)\n",
    "    y_pred = knn.predict(x_test)\n",
    "    accuracy = accuracy_score(y_test, y_pred)\n",
    "    print(\"K:{} | Leaf Size: {} | Accuracy: {:.3f}%\".format(k, leaf_size, accuracy*100))"
   ]
  }
 ],
 "metadata": {
  "interpreter": {
   "hash": "4754b1a841757bca21d99a3ad55b037c055187af9022de7080b3360480cd4452"
  },
  "kernelspec": {
   "display_name": "Python 3.6.8 64-bit",
   "language": "python",
   "name": "python3"
  },
  "language_info": {
   "codemirror_mode": {
    "name": "ipython",
    "version": 3
   },
   "file_extension": ".py",
   "mimetype": "text/x-python",
   "name": "python",
   "nbconvert_exporter": "python",
   "pygments_lexer": "ipython3",
   "version": "3.6.8"
  },
  "orig_nbformat": 4
 },
 "nbformat": 4,
 "nbformat_minor": 2
}
