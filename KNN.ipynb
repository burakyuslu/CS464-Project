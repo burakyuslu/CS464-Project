{
 "cells": [
  {
   "cell_type": "code",
   "execution_count": 1,
   "metadata": {},
   "outputs": [],
   "source": [
    "import matplotlib.pyplot as plt\n",
    "import pandas as pd\n",
    "import numpy as np\n",
    "from sklearn import tree\n",
    "from sklearn.tree import DecisionTreeClassifier\n",
    "import string\n",
    "\n",
    "from sklearn.neighbors import KNeighborsClassifier\n",
    "from sklearn.metrics import accuracy_score"
   ]
  },
  {
   "cell_type": "code",
   "execution_count": 2,
   "metadata": {},
   "outputs": [],
   "source": [
    "# take in the training data\n",
    "x = pd.read_csv(\"sign_mnist_train.csv\")\n",
    "x_train = x.iloc[:, 1:]\n",
    "y_train = x.iloc[:, 0]"
   ]
  },
  {
   "cell_type": "code",
   "execution_count": 3,
   "metadata": {},
   "outputs": [],
   "source": [
    "# take in the test data\n",
    "test = pd.read_csv(\"sign_mnist_test.csv\")\n",
    "x_test = test.iloc[:, 1:]\n",
    "y_test = test.iloc[:, 0]"
   ]
  },
  {
   "cell_type": "code",
   "execution_count": 9,
   "metadata": {},
   "outputs": [
    {
     "name": "stdout",
     "output_type": "stream",
     "text": [
      "KNN with \"uniform\" weights\n",
      "K:3 | Accuracy: 80.396%\n",
      "K:5 | Accuracy: 80.591%\n",
      "K:7 | Accuracy: 80.173%\n",
      "K:9 | Accuracy: 79.573%\n",
      "K:11 | Accuracy: 79.490%\n",
      "K:13 | Accuracy: 79.016%\n",
      "K:15 | Accuracy: 78.555%\n",
      "K:17 | Accuracy: 78.402%\n",
      "K:19 | Accuracy: 77.761%\n",
      "K:21 | Accuracy: 77.342%\n",
      "K:23 | Accuracy: 76.701%\n",
      "K:25 | Accuracy: 76.339%\n",
      "K:27 | Accuracy: 75.823%\n",
      "K:29 | Accuracy: 75.223%\n",
      "K:31 | Accuracy: 74.777%\n",
      "K:33 | Accuracy: 74.554%\n",
      "K:35 | Accuracy: 73.843%\n",
      "K:37 | Accuracy: 73.536%\n",
      "K:39 | Accuracy: 73.076%\n",
      "K:100 | Accuracy: 66.216%\n",
      "K:250 | Accuracy: 56.735%\n",
      "K:500 | Accuracy: 50.530%\n"
     ]
    }
   ],
   "source": [
    "# test using uniform weights\n",
    "print('KNN with \"uniform\" weights')\n",
    "for k in range(3,41,2):\n",
    "    knn = KNeighborsClassifier(n_neighbors=k, weights=\"uniform\") \n",
    "    knn.fit(x_train, y_train)\n",
    "    y_pred = knn.predict(x_test)\n",
    "    accuracy = accuracy_score(y_test, y_pred)\n",
    "    print(\"K:{} | Accuracy: {:.3f}%\".format(k, accuracy*100))\n",
    "\n",
    "knn = KNeighborsClassifier(n_neighbors=100, weights=\"uniform\") \n",
    "knn.fit(x_train, y_train)\n",
    "y_pred = knn.predict(x_test)\n",
    "accuracy = accuracy_score(y_test, y_pred)\n",
    "print(\"K:{} | Accuracy: {:.3f}%\".format(100, accuracy*100))\n",
    "\n",
    "knn = KNeighborsClassifier(n_neighbors=250, weights=\"uniform\") \n",
    "knn.fit(x_train, y_train)\n",
    "y_pred = knn.predict(x_test)\n",
    "accuracy = accuracy_score(y_test, y_pred)\n",
    "print(\"K:{} | Accuracy: {:.3f}%\".format(250, accuracy*100))\n",
    "\n",
    "knn = KNeighborsClassifier(n_neighbors=500, weights=\"uniform\") \n",
    "knn.fit(x_train, y_train)\n",
    "y_pred = knn.predict(x_test)\n",
    "accuracy = accuracy_score(y_test, y_pred)\n",
    "print(\"K:{} | Accuracy: {:.3f}%\".format(500, accuracy*100))\n",
    "\n"
   ]
  },
  {
   "cell_type": "code",
   "execution_count": 10,
   "metadata": {},
   "outputs": [
    {
     "name": "stdout",
     "output_type": "stream",
     "text": [
      "KNN with \"distance\" weights\n",
      "K:3 | Accuracy: 80.800%\n",
      "K:5 | Accuracy: 80.633%\n",
      "K:7 | Accuracy: 80.326%\n",
      "K:9 | Accuracy: 80.061%\n",
      "K:11 | Accuracy: 79.950%\n",
      "K:13 | Accuracy: 79.769%\n",
      "K:15 | Accuracy: 79.434%\n",
      "K:17 | Accuracy: 79.253%\n",
      "K:19 | Accuracy: 78.793%\n",
      "K:21 | Accuracy: 78.402%\n",
      "K:23 | Accuracy: 78.249%\n",
      "K:25 | Accuracy: 77.663%\n",
      "K:27 | Accuracy: 77.064%\n",
      "K:29 | Accuracy: 76.952%\n",
      "K:31 | Accuracy: 76.325%\n",
      "K:33 | Accuracy: 76.046%\n",
      "K:35 | Accuracy: 75.725%\n",
      "K:37 | Accuracy: 75.600%\n",
      "K:39 | Accuracy: 75.265%\n",
      "K:100 | Accuracy: 69.757%\n",
      "K:250 | Accuracy: 62.270%\n",
      "K:500 | Accuracy: 56.065%\n"
     ]
    }
   ],
   "source": [
    "# test using \"distance\" weights\n",
    "print('KNN with \"distance\" weights')\n",
    "for k in range(3,41,2):\n",
    "    knn = KNeighborsClassifier(n_neighbors=k, weights=\"distance\") \n",
    "    knn.fit(x_train, y_train)\n",
    "    y_pred = knn.predict(x_test)\n",
    "    accuracy = accuracy_score(y_test, y_pred)\n",
    "    print(\"K:{} | Accuracy: {:.3f}%\".format(k, accuracy*100))\n",
    "\n",
    "knn = KNeighborsClassifier(n_neighbors=100, weights=\"distance\") \n",
    "knn.fit(x_train, y_train)\n",
    "y_pred = knn.predict(x_test)\n",
    "accuracy = accuracy_score(y_test, y_pred)\n",
    "print(\"K:{} | Accuracy: {:.3f}%\".format(100, accuracy*100))\n",
    "\n",
    "knn = KNeighborsClassifier(n_neighbors=250, weights=\"distance\") \n",
    "knn.fit(x_train, y_train)\n",
    "y_pred = knn.predict(x_test)\n",
    "accuracy = accuracy_score(y_test, y_pred)\n",
    "print(\"K:{} | Accuracy: {:.3f}%\".format(250, accuracy*100))\n",
    "\n",
    "knn = KNeighborsClassifier(n_neighbors=500, weights=\"distance\") \n",
    "knn.fit(x_train, y_train)\n",
    "y_pred = knn.predict(x_test)\n",
    "accuracy = accuracy_score(y_test, y_pred)\n",
    "print(\"K:{} | Accuracy: {:.3f}%\".format(500, accuracy*100))"
   ]
  },
  {
   "cell_type": "code",
   "execution_count": 8,
   "metadata": {},
   "outputs": [
    {
     "name": "stdout",
     "output_type": "stream",
     "text": [
      "K:3 | Leaf Size: 5 | Accuracy: 80.800%\n",
      "K:3 | Leaf Size: 10 | Accuracy: 80.800%\n",
      "K:3 | Leaf Size: 15 | Accuracy: 80.800%\n",
      "K:3 | Leaf Size: 20 | Accuracy: 80.800%\n",
      "K:3 | Leaf Size: 25 | Accuracy: 80.800%\n",
      "K:3 | Leaf Size: 30 | Accuracy: 80.800%\n",
      "K:3 | Leaf Size: 35 | Accuracy: 80.800%\n",
      "K:3 | Leaf Size: 40 | Accuracy: 80.800%\n",
      "K:3 | Leaf Size: 45 | Accuracy: 80.800%\n",
      "K:3 | Leaf Size: 50 | Accuracy: 80.800%\n",
      "K:5 | Leaf Size: 5 | Accuracy: 80.633%\n",
      "K:5 | Leaf Size: 10 | Accuracy: 80.633%\n",
      "K:5 | Leaf Size: 15 | Accuracy: 80.633%\n",
      "K:5 | Leaf Size: 20 | Accuracy: 80.633%\n",
      "K:5 | Leaf Size: 25 | Accuracy: 80.633%\n",
      "K:5 | Leaf Size: 30 | Accuracy: 80.633%\n",
      "K:5 | Leaf Size: 35 | Accuracy: 80.633%\n",
      "K:5 | Leaf Size: 40 | Accuracy: 80.633%\n",
      "K:5 | Leaf Size: 45 | Accuracy: 80.633%\n",
      "K:5 | Leaf Size: 50 | Accuracy: 80.633%\n",
      "K:7 | Leaf Size: 5 | Accuracy: 80.326%\n",
      "K:7 | Leaf Size: 10 | Accuracy: 80.326%\n",
      "K:7 | Leaf Size: 15 | Accuracy: 80.326%\n",
      "K:7 | Leaf Size: 20 | Accuracy: 80.326%\n",
      "K:7 | Leaf Size: 25 | Accuracy: 80.326%\n",
      "K:7 | Leaf Size: 30 | Accuracy: 80.326%\n",
      "K:7 | Leaf Size: 35 | Accuracy: 80.326%\n",
      "K:7 | Leaf Size: 40 | Accuracy: 80.326%\n",
      "K:7 | Leaf Size: 45 | Accuracy: 80.326%\n",
      "K:7 | Leaf Size: 50 | Accuracy: 80.326%\n",
      "K:9 | Leaf Size: 5 | Accuracy: 80.061%\n",
      "K:9 | Leaf Size: 10 | Accuracy: 80.061%\n",
      "K:9 | Leaf Size: 15 | Accuracy: 80.061%\n",
      "K:9 | Leaf Size: 20 | Accuracy: 80.061%\n",
      "K:9 | Leaf Size: 25 | Accuracy: 80.061%\n",
      "K:9 | Leaf Size: 30 | Accuracy: 80.061%\n",
      "K:9 | Leaf Size: 35 | Accuracy: 80.061%\n",
      "K:9 | Leaf Size: 40 | Accuracy: 80.061%\n",
      "K:9 | Leaf Size: 45 | Accuracy: 80.061%\n",
      "K:9 | Leaf Size: 50 | Accuracy: 80.061%\n",
      "K:11 | Leaf Size: 5 | Accuracy: 79.950%\n",
      "K:11 | Leaf Size: 10 | Accuracy: 79.950%\n",
      "K:11 | Leaf Size: 15 | Accuracy: 79.950%\n",
      "K:11 | Leaf Size: 20 | Accuracy: 79.950%\n",
      "K:11 | Leaf Size: 25 | Accuracy: 79.950%\n",
      "K:11 | Leaf Size: 30 | Accuracy: 79.950%\n",
      "K:11 | Leaf Size: 35 | Accuracy: 79.950%\n",
      "K:11 | Leaf Size: 40 | Accuracy: 79.950%\n",
      "K:11 | Leaf Size: 45 | Accuracy: 79.950%\n",
      "K:11 | Leaf Size: 50 | Accuracy: 79.950%\n"
     ]
    }
   ],
   "source": [
    "for k in range(3,12,2):\n",
    "  for leaf_size in range(5,51, 5):\n",
    "    knn = KNeighborsClassifier(n_neighbors=k, leaf_size=leaf_size, weights=\"distance\") \n",
    "    knn.fit(x_train, y_train)\n",
    "    y_pred = knn.predict(x_test)\n",
    "    accuracy = accuracy_score(y_test, y_pred)\n",
    "    print(\"K:{} | Leaf Size: {} | Accuracy: {:.3f}%\".format(k, leaf_size, accuracy*100))"
   ]
  },
  {
   "cell_type": "code",
   "execution_count": 4,
   "metadata": {},
   "outputs": [
    {
     "name": "stdout",
     "output_type": "stream",
     "text": [
      "K:3 | P=1 => Manhattan Distance | Accuracy: 81.428%\n",
      "K:6 | P=1 => Manhattan Distance | Accuracy: 80.996%\n",
      "K:9 | P=1 => Manhattan Distance | Accuracy: 79.866%\n",
      "K:12 | P=1 => Manhattan Distance | Accuracy: 79.267%\n"
     ]
    }
   ],
   "source": [
    "for k in range(3,13,3):  \n",
    "    knn = KNeighborsClassifier(n_neighbors=k, p=1 , weights=\"distance\") \n",
    "    knn.fit(x_train, y_train)\n",
    "    y_pred = knn.predict(x_test)\n",
    "    accuracy = accuracy_score(y_test, y_pred)\n",
    "    print(\"K:{} | P=1 => Manhattan Distance | Accuracy: {:.3f}%\".format(k, accuracy*100))"
   ]
  },
  {
   "cell_type": "code",
   "execution_count": 7,
   "metadata": {},
   "outputs": [
    {
     "name": "stdout",
     "output_type": "stream",
     "text": [
      "K:3 | P=2 => Euclidian Distance | Accuracy: 80.800%\n",
      "K:6 | P=2 => Euclidian Distance | Accuracy: 80.759%\n",
      "K:9 | P=2 => Euclidian Distance | Accuracy: 80.061%\n",
      "K:12 | P=2 => Euclidian Distance | Accuracy: 79.978%\n"
     ]
    }
   ],
   "source": [
    "for k in range(3,13,3):  \n",
    "    knn = KNeighborsClassifier(n_neighbors=k, p=2 , weights=\"distance\") \n",
    "    knn.fit(x_train, y_train)\n",
    "    y_pred = knn.predict(x_test)\n",
    "    accuracy = accuracy_score(y_test, y_pred)\n",
    "    print(\"K:{} | P=2 => Euclidian Distance | Accuracy: {:.3f}%\".format(k, accuracy*100))"
   ]
  }
 ],
 "metadata": {
  "interpreter": {
   "hash": "6b096389ef2dc99ab86b622e8eb2837861d42da459cfb995ee3d89780e2f58b9"
  },
  "kernelspec": {
   "display_name": "Python 3.6.8 64-bit",
   "language": "python",
   "name": "python3"
  },
  "language_info": {
   "codemirror_mode": {
    "name": "ipython",
    "version": 3
   },
   "file_extension": ".py",
   "mimetype": "text/x-python",
   "name": "python",
   "nbconvert_exporter": "python",
   "pygments_lexer": "ipython3",
   "version": "3.6.8"
  },
  "orig_nbformat": 4
 },
 "nbformat": 4,
 "nbformat_minor": 2
}
