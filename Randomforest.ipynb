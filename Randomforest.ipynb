{
 "cells": [
  {
   "cell_type": "code",
   "execution_count": 1,
   "metadata": {},
   "outputs": [],
   "source": [
    "import matplotlib.pyplot as plt\n",
    "import pandas as pd\n",
    "import numpy as np\n",
    "from sklearn import tree\n",
    "from sklearn.tree import DecisionTreeClassifier\n",
    "import string\n",
    "from sklearn.ensemble import RandomForestClassifier\n",
    "\n",
    "\n",
    "from sklearn import metrics "
   ]
  },
  {
   "cell_type": "markdown",
   "metadata": {},
   "source": [
    "# Load Data"
   ]
  },
  {
   "cell_type": "code",
   "execution_count": 2,
   "metadata": {},
   "outputs": [],
   "source": [
    "# take in the training data\n",
    "x = pd.read_csv(\"sign_mnist_train.csv\")\n",
    "x_train = x.iloc[:, 1:]\n",
    "y_train = x.iloc[:, 0]"
   ]
  },
  {
   "cell_type": "code",
   "execution_count": 3,
   "metadata": {},
   "outputs": [],
   "source": [
    "# take in the test data\n",
    "test = pd.read_csv(\"sign_mnist_test.csv\")\n",
    "x_test = test.iloc[:, 1:]\n",
    "y_test = test.iloc[:, 0]"
   ]
  },
  {
   "cell_type": "code",
   "execution_count": 8,
   "metadata": {},
   "outputs": [
    {
     "name": "stdout",
     "output_type": "stream",
     "text": [
      "\n",
      "n_estimators: 1 ACCURACY OF THE MODEL:  0.416899051868377\n",
      "\n",
      "n_estimators: 26 ACCURACY OF THE MODEL:  0.7539040713887339\n",
      "\n",
      "n_estimators: 51 ACCURACY OF THE MODEL:  0.8011712214166202\n",
      "\n",
      "n_estimators: 76 ACCURACY OF THE MODEL:  0.8064696040156163\n",
      "\n",
      "n_estimators: 101 ACCURACY OF THE MODEL:  0.8100948131622978\n",
      "\n",
      "n_estimators: 126 ACCURACY OF THE MODEL:  0.8134411600669269\n",
      "\n",
      "n_estimators: 151 ACCURACY OF THE MODEL:  0.8110708310094813\n",
      "\n",
      "n_estimators: 176 ACCURACY OF THE MODEL:  0.8225041829336308\n",
      "\n",
      "n_estimators: 201 ACCURACY OF THE MODEL:  0.8159509202453987\n"
     ]
    }
   ],
   "source": [
    "for n in range(1, 202, 25):\n",
    "  clf = RandomForestClassifier(n_estimators = n) \n",
    "  \n",
    "  # Training the model on the training dataset\n",
    "  # fit function is used to train the model using the training sets as parameters\n",
    "  clf.fit(x_train, y_train)\n",
    "  \n",
    "  # performing predictions on the test dataset\n",
    "  y_pred = clf.predict(x_test)\n",
    "  \n",
    "  # using metrics module for accuracy calculation\n",
    "  print(f\"n_estimators: {n} ACCURACY OF THE MODEL: \", metrics.accuracy_score(y_test, y_pred))"
   ]
  },
  {
   "cell_type": "code",
   "execution_count": 7,
   "metadata": {},
   "outputs": [
    {
     "name": "stdout",
     "output_type": "stream",
     "text": [
      "\n",
      "n_estimators: 1 ACCURACY OF THE MODEL:  0.38176240936977135\n",
      "\n",
      "n_estimators: 3 ACCURACY OF THE MODEL:  0.4867540435025098\n",
      "\n",
      "n_estimators: 5 ACCURACY OF THE MODEL:  0.5711098717233687\n",
      "\n",
      "n_estimators: 7 ACCURACY OF THE MODEL:  0.6356664807585053\n",
      "\n",
      "n_estimators: 9 ACCURACY OF THE MODEL:  0.6692693809258227\n",
      "\n",
      "n_estimators: 11 ACCURACY OF THE MODEL:  0.6885108756274401\n",
      "\n",
      "n_estimators: 13 ACCURACY OF THE MODEL:  0.7044060234244284\n",
      "\n",
      "n_estimators: 15 ACCURACY OF THE MODEL:  0.7056609035136643\n",
      "\n",
      "n_estimators: 17 ACCURACY OF THE MODEL:  0.7214166201896264\n",
      "\n",
      "n_estimators: 19 ACCURACY OF THE MODEL:  0.723786949247072\n",
      "\n",
      "n_estimators: 21 ACCURACY OF THE MODEL:  0.7304796430563302\n",
      "\n",
      "n_estimators: 23 ACCURACY OF THE MODEL:  0.7547406581148912\n"
     ]
    }
   ],
   "source": [
    "for n in range(1, 25, 2):\n",
    "  clf = RandomForestClassifier(n_estimators = n) \n",
    "  \n",
    "  # Training the model on the training dataset\n",
    "  # fit function is used to train the model using the training sets as parameters\n",
    "  clf.fit(x_train, y_train)\n",
    "  \n",
    "  # performing predictions on the test dataset\n",
    "  y_pred = clf.predict(x_test)\n",
    "  \n",
    "  # metrics are used to find accuracy or error\n",
    "  from sklearn import metrics \n",
    "  print()\n",
    "  \n",
    "  # using metrics module for accuracy calculation\n",
    "  print(f\"n_estimators: {n} ACCURACY OF THE MODEL: \", metrics.accuracy_score(y_test, y_pred))"
   ]
  }
 ],
 "metadata": {
  "interpreter": {
   "hash": "4754b1a841757bca21d99a3ad55b037c055187af9022de7080b3360480cd4452"
  },
  "kernelspec": {
   "display_name": "Python 3.6.8 64-bit",
   "language": "python",
   "name": "python3"
  },
  "language_info": {
   "codemirror_mode": {
    "name": "ipython",
    "version": 3
   },
   "file_extension": ".py",
   "mimetype": "text/x-python",
   "name": "python",
   "nbconvert_exporter": "python",
   "pygments_lexer": "ipython3",
   "version": "3.6.8"
  },
  "orig_nbformat": 4
 },
 "nbformat": 4,
 "nbformat_minor": 2
}
