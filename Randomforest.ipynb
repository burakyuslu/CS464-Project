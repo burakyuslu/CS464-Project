{
 "cells": [
  {
   "cell_type": "code",
   "execution_count": 1,
   "metadata": {},
   "outputs": [],
   "source": [
    "import matplotlib.pyplot as plt\n",
    "import pandas as pd\n",
    "import numpy as np\n",
    "from sklearn import tree\n",
    "from sklearn.tree import DecisionTreeClassifier\n",
    "import string\n",
    "from sklearn.ensemble import RandomForestClassifier\n"
   ]
  },
  {
   "cell_type": "markdown",
   "metadata": {},
   "source": [
    "# Load Data"
   ]
  },
  {
   "cell_type": "code",
   "execution_count": 2,
   "metadata": {},
   "outputs": [],
   "source": [
    "# take in the training data\n",
    "x = pd.read_csv(\"sign_mnist_train.csv\")\n",
    "x_train = x.iloc[:, 1:]\n",
    "y_train = x.iloc[:, 0]"
   ]
  },
  {
   "cell_type": "code",
   "execution_count": 3,
   "metadata": {},
   "outputs": [],
   "source": [
    "# take in the test data\n",
    "test = pd.read_csv(\"sign_mnist_test.csv\")\n",
    "x_test = test.iloc[:, 1:]\n",
    "y_test = test.iloc[:, 0]"
   ]
  },
  {
   "cell_type": "code",
   "execution_count": 4,
   "metadata": {},
   "outputs": [
    {
     "name": "stdout",
     "output_type": "stream",
     "text": [
      "\n",
      "n_estimators: 1 ACCURACY OF THE MODEL:  0.38608477412158393\n",
      "\n",
      "n_estimators: 26 ACCURACY OF THE MODEL:  0.7684049079754601\n",
      "\n",
      "n_estimators: 51 ACCURACY OF THE MODEL:  0.7961517010596765\n",
      "\n",
      "n_estimators: 76 ACCURACY OF THE MODEL:  0.8105131065253764\n",
      "\n",
      "n_estimators: 101 ACCURACY OF THE MODEL:  0.8091187953151143\n",
      "\n",
      "n_estimators: 126 ACCURACY OF THE MODEL:  0.8134411600669269\n",
      "\n",
      "n_estimators: 151 ACCURACY OF THE MODEL:  0.8166480758505298\n",
      "\n",
      "n_estimators: 176 ACCURACY OF THE MODEL:  0.8204127161182376\n"
     ]
    }
   ],
   "source": [
    "for n in range(1, 200, 25):\n",
    "  clf = RandomForestClassifier(n_estimators = n) \n",
    "  \n",
    "  # Training the model on the training dataset\n",
    "  # fit function is used to train the model using the training sets as parameters\n",
    "  clf.fit(x_train, y_train)\n",
    "  \n",
    "  # performing predictions on the test dataset\n",
    "  y_pred = clf.predict(x_test)\n",
    "  \n",
    "  # metrics are used to find accuracy or error\n",
    "  from sklearn import metrics \n",
    "  print()\n",
    "  \n",
    "  # using metrics module for accuracy calculation\n",
    "  print(f\"n_estimators: {n} ACCURACY OF THE MODEL: \", metrics.accuracy_score(y_test, y_pred))"
   ]
  }
 ],
 "metadata": {
  "interpreter": {
   "hash": "4754b1a841757bca21d99a3ad55b037c055187af9022de7080b3360480cd4452"
  },
  "kernelspec": {
   "display_name": "Python 3.6.8 64-bit",
   "language": "python",
   "name": "python3"
  },
  "language_info": {
   "codemirror_mode": {
    "name": "ipython",
    "version": 3
   },
   "file_extension": ".py",
   "mimetype": "text/x-python",
   "name": "python",
   "nbconvert_exporter": "python",
   "pygments_lexer": "ipython3",
   "version": "3.6.8"
  },
  "orig_nbformat": 4
 },
 "nbformat": 4,
 "nbformat_minor": 2
}
