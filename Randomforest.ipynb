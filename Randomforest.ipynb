{
 "cells": [
  {
   "cell_type": "code",
   "execution_count": 1,
   "metadata": {},
   "outputs": [],
   "source": [
    "import matplotlib.pyplot as plt\n",
    "import pandas as pd\n",
    "import numpy as np\n",
    "from sklearn import tree\n",
    "from sklearn.tree import DecisionTreeClassifier\n",
    "import string\n",
    "from sklearn.ensemble import RandomForestClassifier\n",
    "\n",
    "from sklearn.preprocessing import StandardScaler\n",
    "\n",
    "from sklearn import metrics "
   ]
  },
  {
   "cell_type": "markdown",
   "metadata": {},
   "source": [
    "# Load Data"
   ]
  },
  {
   "cell_type": "code",
   "execution_count": 2,
   "metadata": {},
   "outputs": [],
   "source": [
    "# take in the training data\n",
    "x = pd.read_csv(\"sign_mnist_train.csv\")\n",
    "x_train = x.iloc[:, 1:]\n",
    "y_train = x.iloc[:, 0]\n",
    "\n",
    "sc = StandardScaler()\n",
    "sc.fit(x_train)\n",
    "x_train = sc.fit_transform(x_train)"
   ]
  },
  {
   "cell_type": "code",
   "execution_count": 3,
   "metadata": {},
   "outputs": [],
   "source": [
    "# take in the test data\n",
    "test = pd.read_csv(\"sign_mnist_test.csv\")\n",
    "x_test = test.iloc[:, 1:]\n",
    "y_test = test.iloc[:, 0]\n",
    "sc2 = StandardScaler()\n",
    "sc2.fit(x_test)\n",
    "x_test = sc2.transform(x_test)"
   ]
  },
  {
   "cell_type": "code",
   "execution_count": 4,
   "metadata": {},
   "outputs": [],
   "source": [
    "from sklearn.decomposition import PCA\n",
    "pca = PCA(n_components=20)\n",
    "x_train = pca.fit_transform(x_train)\n",
    "x_test = pca.transform(x_test)\n"
   ]
  },
  {
   "cell_type": "code",
   "execution_count": 5,
   "metadata": {},
   "outputs": [
    {
     "name": "stdout",
     "output_type": "stream",
     "text": [
      "n_estimators: 1 ACCURACY OF THE MODEL:  0.45607919687674287\n",
      "n_estimators: 26 ACCURACY OF THE MODEL:  0.7550195203569436\n",
      "n_estimators: 51 ACCURACY OF THE MODEL:  0.7778862242052426\n",
      "n_estimators: 76 ACCURACY OF THE MODEL:  0.7876464026770775\n",
      "n_estimators: 101 ACCURACY OF THE MODEL:  0.7868098159509203\n",
      "n_estimators: 126 ACCURACY OF THE MODEL:  0.8070273284997211\n",
      "n_estimators: 151 ACCURACY OF THE MODEL:  0.798382598996096\n",
      "n_estimators: 176 ACCURACY OF THE MODEL:  0.7982431678750698\n",
      "n_estimators: 201 ACCURACY OF THE MODEL:  0.8007529280535416\n"
     ]
    }
   ],
   "source": [
    "for n in range(1, 202, 25):\n",
    "  clf = RandomForestClassifier(n_estimators = n) \n",
    "  \n",
    "  # Training the model on the training dataset\n",
    "  # fit function is used to train the model using the training sets as parameters\n",
    "  clf.fit(x_train, y_train)\n",
    "  \n",
    "  # performing predictions on the test dataset\n",
    "  y_pred = clf.predict(x_test)\n",
    "  \n",
    "  # using metrics module for accuracy calculation\n",
    "  print(f\"n_estimators: {n} ACCURACY OF THE MODEL: \", metrics.accuracy_score(y_test, y_pred))"
   ]
  },
  {
   "cell_type": "code",
   "execution_count": 6,
   "metadata": {},
   "outputs": [
    {
     "name": "stdout",
     "output_type": "stream",
     "text": [
      "\n",
      "n_estimators: 1 ACCURACY OF THE MODEL:  0.4686279977691021\n",
      "\n",
      "n_estimators: 3 ACCURACY OF THE MODEL:  0.5343000557724484\n",
      "\n",
      "n_estimators: 5 ACCURACY OF THE MODEL:  0.6504461795872839\n",
      "\n",
      "n_estimators: 7 ACCURACY OF THE MODEL:  0.6695482431678751\n",
      "\n",
      "n_estimators: 9 ACCURACY OF THE MODEL:  0.6972950362520914\n",
      "\n",
      "n_estimators: 11 ACCURACY OF THE MODEL:  0.6808421639709983\n",
      "\n",
      "n_estimators: 13 ACCURACY OF THE MODEL:  0.7106804238706079\n",
      "\n",
      "n_estimators: 15 ACCURACY OF THE MODEL:  0.7268544339096487\n",
      "\n",
      "n_estimators: 17 ACCURACY OF THE MODEL:  0.7410764082543224\n",
      "\n",
      "n_estimators: 19 ACCURACY OF THE MODEL:  0.7350808700501952\n",
      "\n",
      "n_estimators: 21 ACCURACY OF THE MODEL:  0.7523703290574456\n",
      "\n",
      "n_estimators: 23 ACCURACY OF THE MODEL:  0.7477691020635806\n"
     ]
    }
   ],
   "source": [
    "\n",
    "for n in range(1, 25, 2):\n",
    "  clf = RandomForestClassifier(n_estimators = n) \n",
    "  \n",
    "  # Training the model on the training dataset\n",
    "  # fit function is used to train the model using the training sets as parameters\n",
    "  clf.fit(x_train, y_train)\n",
    "  \n",
    "  # performing predictions on the test dataset\n",
    "  y_pred = clf.predict(x_test)\n",
    "  \n",
    "  # metrics are used to find accuracy or error\n",
    "  from sklearn import metrics \n",
    "  print()\n",
    "  \n",
    "  # using metrics module for accuracy calculation\n",
    "  print(f\"n_estimators: {n} ACCURACY OF THE MODEL: \", metrics.accuracy_score(y_test, y_pred))"
   ]
  },
  {
   "cell_type": "markdown",
   "metadata": {},
   "source": []
  }
 ],
 "metadata": {
  "interpreter": {
   "hash": "c01b7c4c8321f1c59f7609164cbbb74cd592760985d426c4543ca7639a6d3ab1"
  },
  "kernelspec": {
   "display_name": "Python 3.10.4 64-bit (windows store)",
   "language": "python",
   "name": "python3"
  },
  "language_info": {
   "codemirror_mode": {
    "name": "ipython",
    "version": 3
   },
   "file_extension": ".py",
   "mimetype": "text/x-python",
   "name": "python",
   "nbconvert_exporter": "python",
   "pygments_lexer": "ipython3",
   "version": "3.10.4"
  },
  "orig_nbformat": 4
 },
 "nbformat": 4,
 "nbformat_minor": 2
}
